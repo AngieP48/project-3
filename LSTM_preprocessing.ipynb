{
 "cells": [
  {
   "cell_type": "code",
   "execution_count": null,
   "metadata": {},
   "outputs": [],
   "source": [
    "from sklearn.preprocessing import OneHotEncoder\n",
    "from nltk.sentiment.vader import SentimentIntensityAnalyzer\n",
    "import pandas as pd\n",
    "import numpy as np"
   ]
  },
  {
   "cell_type": "code",
   "execution_count": null,
   "metadata": {},
   "outputs": [],
   "source": [
    "tweets_df = pd.read_csv('Resources\\stock_tweets.csv') \n",
    "\n",
    "\n",
    "sid = SentimentIntensityAnalyzer()\n",
    "\n",
    "\n",
    "tweets_df['Date'] = pd.to_datetime(tweets_df['Date']).dt.date\n",
    "\n",
    "\n",
    "tweets_df['Sentiment'] = tweets_df['Tweet'].apply(lambda tweet: sid.polarity_scores(tweet)['compound'])\n",
    "\n",
    "\n",
    "daily_sentiment = tweets_df.groupby(['Date', 'Stock Name']).agg(\n",
    "    Average_Sentiment=('Sentiment', 'mean'),\n",
    "    Number_of_Tweets=('Sentiment', 'size')\n",
    ").reset_index()\n",
    "\n",
    "\n",
    "daily_sentiment.to_csv('daily_vader_sentiment.csv', index=False)\n"
   ]
  },
  {
   "cell_type": "code",
   "execution_count": null,
   "metadata": {},
   "outputs": [],
   "source": [
    "\n",
    "stock_prices_df = pd.read_csv('Resources\\stock_yfinance_data.csv')  \n",
    "\n",
    "stock_prices_df['Date'] = pd.to_datetime(stock_prices_df['Date']).dt.date\n",
    "\n",
    "stock_prices_df['Price_Diff'] = stock_prices_df.groupby('Stock Name')['Close'].diff()\n",
    "\n",
    "stock_prices_df['Open_Close_Diff'] = stock_prices_df['Close'] - stock_prices_df['Open']\n",
    "\n",
    "stock_prices_df.to_csv('stock_prices_with_features.csv', index=False)\n"
   ]
  },
  {
   "cell_type": "code",
   "execution_count": null,
   "metadata": {},
   "outputs": [],
   "source": [
    "merged_data = pd.merge(daily_sentiment, stock_prices_df, on=['Date', 'Stock Name'], how='inner')\n",
    "\n",
    "\n",
    "merged_data.to_csv('merged_sentiment_stock_data.csv', index=False)\n",
    "\n",
    "\n",
    "print(merged_data.head())\n"
   ]
  },
  {
   "cell_type": "code",
   "execution_count": null,
   "metadata": {},
   "outputs": [],
   "source": []
  }
 ],
 "metadata": {
  "kernelspec": {
   "display_name": "dev",
   "language": "python",
   "name": "python3"
  },
  "language_info": {
   "codemirror_mode": {
    "name": "ipython",
    "version": 3
   },
   "file_extension": ".py",
   "mimetype": "text/x-python",
   "name": "python",
   "nbconvert_exporter": "python",
   "pygments_lexer": "ipython3",
   "version": "3.10.14"
  }
 },
 "nbformat": 4,
 "nbformat_minor": 2
}
